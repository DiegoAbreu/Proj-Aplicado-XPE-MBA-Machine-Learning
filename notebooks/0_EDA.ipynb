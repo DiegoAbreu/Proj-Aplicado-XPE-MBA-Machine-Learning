{
 "cells": [
  {
   "attachments": {},
   "cell_type": "markdown",
   "metadata": {},
   "source": [
    "# Análise Exploratória"
   ]
  },
  {
   "attachments": {},
   "cell_type": "markdown",
   "metadata": {},
   "source": [
    "## Datasets:\n",
    "Os datasets serão armazenados no diretório data conforme a estrutura a seguir:\n",
    "\n",
    "...\n",
    "\n",
    "    ├── data                            <- Diretório de dados.\n",
    "    │   ├── external                    <- Diretório de dados externos(temporário).\n",
    "    │   │   └── input_video             <- Diretório para armazenar o vídeo recebido via \n",
    "    │   │                                  upload para classificação.\n",
    "    │   │   \n",
    "    │   ├── interim                     <- Diretório de dados em processamento (temporário).\n",
    "    │   │   └── input_face              <- Diretório para armazenar os frames processados \n",
    "    │   │                                  do vídeo recebido via upload para classificação.\n",
    "    │   │\n",
    "    │   ├── processed                   <- Diretório de dados processados.\n",
    "    │   │   ├── dataset_celebdf         <- Diretório de faces do dataset celebdf\n",
    "    │   │   │   └── real_face           <- Diretório de faces reais\n",
    "    │   │   │   └── fake_face           <- Diretório de faces falsas\n",
    "    │   │   │\n",
    "    │   │   ├── dataset_faceforensics   <- Diretório de faces do dataset faceforensics\n",
    "    │   │   │   └── real_face           <- Diretório de faces reais\n",
    "    │   │   │   └── fake_face           <- Diretório de faces falsas\n",
    "    │   │   │\n",
    "    │   │   └── dataset_dfdc            <- Diretório de faces do dataset dfdc\n",
    "    │   │       └── real_face           <- Diretório de faces reais\n",
    "    │   │       └── fake_face           <- Diretório de faces falsas\n",
    "    │   │   \n",
    "    │   └── raw                         <- Diretório de dados brutos.\n",
    "    │       ├── dataset_celebdf         <- Diretório de vídeos do dataset celebdf\n",
    "    │       │   └── real_video          <- Diretório de vídeos reais\n",
    "    │       │   └── fake_video          <- Diretório de vídeos falsos\n",
    "    │       │\n",
    "    │       ├── dataset_faceforensics   <- Diretório de vídeos do dataset faceforensics\n",
    "    │       │   └── real_video          <- Diretório de vídeos reais\n",
    "    │       │   └── fake_video          <- Diretório de vídeos falsos\n",
    "    │       │\n",
    "    │       └── dataset_dfdc            <- Diretório de vídeos do dataset dfdc\n",
    "    │           └── real_video          <- Diretório de vídeos reais\n",
    "    │           └── fake_video          <- Diretório de vídeos falsos\n",
    "..."
   ]
  },
  {
   "attachments": {},
   "cell_type": "markdown",
   "metadata": {},
   "source": [
    "### CELEB-DF:\n",
    "Link:\n",
    "- Celeb-DF: https://www.kaggle.com/datasets/reubensuju/celeb-df-v2"
   ]
  },
  {
   "cell_type": "code",
   "execution_count": null,
   "metadata": {},
   "outputs": [],
   "source": [
    " "
   ]
  },
  {
   "attachments": {},
   "cell_type": "markdown",
   "metadata": {},
   "source": [
    "***"
   ]
  },
  {
   "attachments": {},
   "cell_type": "markdown",
   "metadata": {},
   "source": [
    "### FaceForensics++:\n",
    "Link:\n",
    "- FaceForensics: https://www.kaggle.com/datasets/sorokin/faceforensics"
   ]
  },
  {
   "cell_type": "code",
   "execution_count": null,
   "metadata": {},
   "outputs": [],
   "source": []
  },
  {
   "attachments": {},
   "cell_type": "markdown",
   "metadata": {},
   "source": [
    "***"
   ]
  },
  {
   "attachments": {},
   "cell_type": "markdown",
   "metadata": {},
   "source": [
    "### DFDC:\n",
    "Link:\n",
    "- DFDC: https://www.kaggle.com/competitions/deepfake-detection-challenge/data"
   ]
  },
  {
   "cell_type": "code",
   "execution_count": null,
   "metadata": {},
   "outputs": [],
   "source": []
  }
 ],
 "metadata": {
  "kernelspec": {
   "display_name": "base",
   "language": "python",
   "name": "python3"
  },
  "language_info": {
   "name": "python",
   "version": "3.8.8"
  },
  "orig_nbformat": 4
 },
 "nbformat": 4,
 "nbformat_minor": 2
}
