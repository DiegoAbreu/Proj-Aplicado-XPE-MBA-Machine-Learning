{
 "cells": [
  {
   "attachments": {},
   "cell_type": "markdown",
   "metadata": {},
   "source": [
    "# teste"
   ]
  },
  {
   "attachments": {},
   "cell_type": "markdown",
   "metadata": {},
   "source": [
    "## Importacao de dados"
   ]
  },
  {
   "cell_type": "code",
   "execution_count": 2,
   "metadata": {},
   "outputs": [
    {
     "data": {
      "text/html": [
       "<div>\n",
       "<style scoped>\n",
       "    .dataframe tbody tr th:only-of-type {\n",
       "        vertical-align: middle;\n",
       "    }\n",
       "\n",
       "    .dataframe tbody tr th {\n",
       "        vertical-align: top;\n",
       "    }\n",
       "\n",
       "    .dataframe thead th {\n",
       "        text-align: right;\n",
       "    }\n",
       "</style>\n",
       "<table border=\"1\" class=\"dataframe\">\n",
       "  <thead>\n",
       "    <tr style=\"text-align: right;\">\n",
       "      <th></th>\n",
       "      <th>tamanho</th>\n",
       "      <th>ano</th>\n",
       "      <th>garagem</th>\n",
       "      <th>preco</th>\n",
       "    </tr>\n",
       "  </thead>\n",
       "  <tbody>\n",
       "    <tr>\n",
       "      <th>0</th>\n",
       "      <td>159.0</td>\n",
       "      <td>2003</td>\n",
       "      <td>2</td>\n",
       "      <td>208500</td>\n",
       "    </tr>\n",
       "    <tr>\n",
       "      <th>1</th>\n",
       "      <td>117.0</td>\n",
       "      <td>1976</td>\n",
       "      <td>2</td>\n",
       "      <td>181500</td>\n",
       "    </tr>\n",
       "    <tr>\n",
       "      <th>2</th>\n",
       "      <td>166.0</td>\n",
       "      <td>2001</td>\n",
       "      <td>2</td>\n",
       "      <td>223500</td>\n",
       "    </tr>\n",
       "    <tr>\n",
       "      <th>3</th>\n",
       "      <td>160.0</td>\n",
       "      <td>1915</td>\n",
       "      <td>3</td>\n",
       "      <td>140000</td>\n",
       "    </tr>\n",
       "    <tr>\n",
       "      <th>4</th>\n",
       "      <td>204.0</td>\n",
       "      <td>2000</td>\n",
       "      <td>3</td>\n",
       "      <td>250000</td>\n",
       "    </tr>\n",
       "  </tbody>\n",
       "</table>\n",
       "</div>"
      ],
      "text/plain": [
       "   tamanho   ano  garagem   preco\n",
       "0    159.0  2003        2  208500\n",
       "1    117.0  1976        2  181500\n",
       "2    166.0  2001        2  223500\n",
       "3    160.0  1915        3  140000\n",
       "4    204.0  2000        3  250000"
      ]
     },
     "execution_count": 2,
     "metadata": {},
     "output_type": "execute_result"
    }
   ],
   "source": [
    "import pandas as pd\n",
    "df = pd.read_csv('../data/external/casas.csv')\n",
    "df.head()"
   ]
  },
  {
   "cell_type": "code",
   "execution_count": 3,
   "metadata": {},
   "outputs": [],
   "source": [
    "X = df.drop('preco',axis=1)\n",
    "y = df['preco'].copy()"
   ]
  },
  {
   "cell_type": "code",
   "execution_count": 4,
   "metadata": {},
   "outputs": [],
   "source": [
    "from sklearn.model_selection import train_test_split\n",
    "X_train, X_test, y_train, y_test = train_test_split(X, y, test_size=0.3, random_state=42)"
   ]
  },
  {
   "cell_type": "code",
   "execution_count": 12,
   "metadata": {},
   "outputs": [],
   "source": [
    "import mlflow\n",
    "mlflow.set_experiment('teste-mlflow')\n",
    "from sklearn.linear_model import LinearRegression\n",
    "from sklearn.metrics import mean_squared_error, r2_score\n",
    "import math"
   ]
  },
  {
   "attachments": {},
   "cell_type": "markdown",
   "metadata": {},
   "source": [
    "## Modelo 1"
   ]
  },
  {
   "cell_type": "code",
   "execution_count": 15,
   "metadata": {},
   "outputs": [],
   "source": [
    "with mlflow.start_run(run_name='Regressao Linear'):\n",
    "    lr = LinearRegression()\n",
    "    lr.fit(X_train, y_train)\n",
    "    mlflow.sklearn.log_model(lr,'lr')\n",
    "    lr_predicted = lr.predict(X_test)\n",
    "    mse = mean_squared_error(y_test, lr_predicted)\n",
    "    rmse =  math.sqrt(mse)\n",
    "    r2 = r2_score(y_test, lr_predicted)\n",
    "    mlflow.log_metric('mse',mse)\n",
    "    mlflow.log_metric('rmse',rmse)\n",
    "    mlflow.log_metric('r2',r2)\n"
   ]
  },
  {
   "attachments": {},
   "cell_type": "markdown",
   "metadata": {},
   "source": [
    "## Modelo 2"
   ]
  },
  {
   "cell_type": "code",
   "execution_count": 16,
   "metadata": {},
   "outputs": [
    {
     "name": "stderr",
     "output_type": "stream",
     "text": [
      "/Users/diegoabreu/opt/anaconda3/lib/python3.8/site-packages/xgboost/data.py:262: FutureWarning: pandas.Int64Index is deprecated and will be removed from pandas in a future version. Use pandas.Index with the appropriate dtype instead.\n",
      "  elif isinstance(data.columns, (pd.Int64Index, pd.RangeIndex)):\n"
     ]
    }
   ],
   "source": [
    "from xgboost import XGBRegressor\n",
    "xgb_params = {\n",
    "    'learning_rate':0.2,\n",
    "    'n_estimators': 50,\n",
    "    'random_state':42\n",
    "}\n",
    "with mlflow.start_run(run_name='Xgboost'):\n",
    "    xgb = XGBRegressor(**xgb_params)\n",
    "    xgb.fit(X_train, y_train)\n",
    "    mlflow.xgboost.log_model(xgb,'xgboost')\n",
    "    xgb_predicted = xgb.predict(X_test)\n",
    "    mse = mean_squared_error(y_test, xgb_predicted)\n",
    "    rmse =  math.sqrt(mse)\n",
    "    r2 = r2_score(y_test, xgb_predicted)\n",
    "    mlflow.log_metric('mse',mse)\n",
    "    mlflow.log_metric('rmse',rmse)\n",
    "    mlflow.log_metric('r2',r2)"
   ]
  },
  {
   "cell_type": "code",
   "execution_count": null,
   "metadata": {},
   "outputs": [],
   "source": []
  },
  {
   "cell_type": "code",
   "execution_count": null,
   "metadata": {},
   "outputs": [],
   "source": []
  },
  {
   "cell_type": "code",
   "execution_count": 1,
   "metadata": {},
   "outputs": [],
   "source": [
    "from glob import glob\n",
    "import os"
   ]
  },
  {
   "cell_type": "code",
   "execution_count": 4,
   "metadata": {},
   "outputs": [
    {
     "data": {
      "text/plain": [
       "'../data/raw/dataset_faceforensics/fake_video/000_003.mp4'"
      ]
     },
     "execution_count": 4,
     "metadata": {},
     "output_type": "execute_result"
    }
   ],
   "source": [
    "x = glob(\"../data/raw/dataset_faceforensics/fake_video/*mp4\")\n",
    "x[0]"
   ]
  },
  {
   "cell_type": "code",
   "execution_count": 7,
   "metadata": {},
   "outputs": [
    {
     "data": {
      "text/plain": [
       "'../data/raw/dataset_faceforensics/fake_video/df_000_003.mp4'"
      ]
     },
     "execution_count": 7,
     "metadata": {},
     "output_type": "execute_result"
    }
   ],
   "source": [
    "\"../data/raw/dataset_faceforensics/fake_video/df_\" + x[0].replace(\"../data/raw/dataset_faceforensics/fake_video/\",\"\").replace(\".mp4\",\"\")+ \".mp4\""
   ]
  },
  {
   "cell_type": "code",
   "execution_count": 8,
   "metadata": {},
   "outputs": [],
   "source": [
    "for i in glob(\"../data/raw/dataset_faceforensics/fake_video/*mp4\"):\n",
    "    os.rename(i, \"../data/raw/dataset_faceforensics/fake_video/df_\" + i.replace(\"../data/raw/dataset_faceforensics/fake_video/\",\"\").replace(\".mp4\",\"\")+ \".mp4\")\n"
   ]
  },
  {
   "cell_type": "code",
   "execution_count": 9,
   "metadata": {},
   "outputs": [],
   "source": [
    "for i in glob(\"../data/raw/dataset_faceforensics/fake_video/Face2Face/c23/videos/*mp4\"):\n",
    "    os.rename(i, \"../data/raw/dataset_faceforensics/fake_video/Face2Face/c23/videos/f2f_\" + i.replace(\"../data/raw/dataset_faceforensics/fake_video/Face2Face/c23/videos/\",\"\").replace(\".mp4\",\"\")+ \".mp4\")\n"
   ]
  },
  {
   "cell_type": "code",
   "execution_count": 10,
   "metadata": {},
   "outputs": [],
   "source": [
    "for i in glob(\"../data/raw/dataset_faceforensics/fake_video/FaceSwap/c23/videos/*mp4\"):\n",
    "    os.rename(i, \"../data/raw/dataset_faceforensics/fake_video/FaceSwap/c23/videos/fs_\" + i.replace(\"../data/raw/dataset_faceforensics/fake_video/FaceSwap/c23/videos/\",\"\").replace(\".mp4\",\"\")+ \".mp4\")\n"
   ]
  },
  {
   "cell_type": "code",
   "execution_count": 11,
   "metadata": {},
   "outputs": [],
   "source": [
    "for i in glob(\"../data/raw/dataset_faceforensics/fake_video/NeuralTextures/c23/videos/*mp4\"):\n",
    "    os.rename(i, \"../data/raw/dataset_faceforensics/fake_video/NeuralTextures/c23/videos/nt_\" + i.replace(\"../data/raw/dataset_faceforensics/fake_video/NeuralTextures/c23/videos/\",\"\").replace(\".mp4\",\"\")+ \".mp4\")\n"
   ]
  },
  {
   "cell_type": "code",
   "execution_count": null,
   "metadata": {},
   "outputs": [],
   "source": []
  },
  {
   "cell_type": "code",
   "execution_count": 18,
   "metadata": {},
   "outputs": [
    {
     "data": {
      "text/plain": [
       "'../data/raw/dataset_dfdc/a_identificar/dfdc_train_part_0/metadata.json'"
      ]
     },
     "execution_count": 18,
     "metadata": {},
     "output_type": "execute_result"
    }
   ],
   "source": [
    "json_files[0]"
   ]
  },
  {
   "cell_type": "code",
   "execution_count": null,
   "metadata": {},
   "outputs": [],
   "source": [
    "pastas = glob(\"../data/raw/dataset_dfdc/a_identificar/*\")\n",
    "json_files=[]\n",
    "for pasta in pastas:\n",
    "    try:\n",
    "        json_files.append(glob(pasta+\"/*json\")[0])\n",
    "    except: \n",
    "        print(\"erro: \", pasta)\n",
    "#json_files"
   ]
  },
  {
   "cell_type": "code",
   "execution_count": 20,
   "metadata": {},
   "outputs": [],
   "source": [
    "import json\n",
    "json_meta = json.load(open(json_files[0]))\n",
    "#json_meta"
   ]
  },
  {
   "cell_type": "code",
   "execution_count": 45,
   "metadata": {},
   "outputs": [],
   "source": [
    "import json\n",
    "from glob import glob\n",
    "import os\n",
    "import shutil\n",
    "pastas = glob(\"../data/raw/dataset_dfdc/a_identificar/*\")\n",
    "json_files=[]\n",
    "for pasta in pastas:\n",
    "    #print(glob(pasta+\"/*json\")[0])\n",
    "    json_meta_file = glob(pasta+\"/*json\")[0]\n",
    "    json_meta = json.load(open(json_meta_file))\n",
    "    #print(json_meta)\n",
    "    videos = glob(pasta+\"/*mp4\")\n",
    "    for video in videos:\n",
    "        z = video.replace( pasta+\"/\", \"\")\n",
    "        if json_meta[z]['label'] == 'FAKE':\n",
    "            shutil.move(video,\"../data/raw/dataset_dfdc/fake_video/\")\n",
    "        else:\n",
    "            shutil.move(video,\"../data/raw/dataset_dfdc/real_video/\")\n",
    "\n"
   ]
  },
  {
   "cell_type": "code",
   "execution_count": 50,
   "metadata": {},
   "outputs": [
    {
     "data": {
      "text/plain": [
       "19154"
      ]
     },
     "execution_count": 50,
     "metadata": {},
     "output_type": "execute_result"
    }
   ],
   "source": [
    "len(glob(\"../data/raw/dataset_dfdc/real_video/*\"))"
   ]
  },
  {
   "cell_type": "code",
   "execution_count": null,
   "metadata": {},
   "outputs": [],
   "source": [
    "for i in glob(pastas[0]+\"/*mp4\"):\n",
    "    z = i.replace( \"../data/raw/dataset_dfdc/a_identificar/dfdc_train_part_0/\", \"\")\n",
    "    if json_meta[z]['label'] == 'FAKE':\n",
    "        print('fake')\n",
    "    else:\n",
    "        print('real')"
   ]
  },
  {
   "cell_type": "code",
   "execution_count": 27,
   "metadata": {},
   "outputs": [
    {
     "data": {
      "text/plain": [
       "'FAKE'"
      ]
     },
     "execution_count": 27,
     "metadata": {},
     "output_type": "execute_result"
    }
   ],
   "source": [
    "json_meta[z]['label']"
   ]
  },
  {
   "cell_type": "code",
   "execution_count": 15,
   "metadata": {},
   "outputs": [],
   "source": [
    "data=[]\n",
    "for f in json_files:\n",
    "    with open(f,) as infile:\n",
    "        data.append(json.load(infile))\n",
    "with open(\"../data/raw/dataset_dfdc/metadados.json\",'w') as outfile:\n",
    "  json.dump(data, outfile)"
   ]
  },
  {
   "cell_type": "code",
   "execution_count": 49,
   "metadata": {},
   "outputs": [],
   "source": [
    "import json\n",
    "from glob import glob\n",
    "import os\n",
    "import shutil\n",
    "\n",
    "json_meta = json.load(open(\"../data/raw/dataset_dfdc/metadados.json\"))\n",
    "#print(json_meta)\n",
    "pasta = \"../data/raw/dataset_dfdc/videos\"\n",
    "videos = glob(pasta+\"/*mp4\")\n",
    "for video in videos:\n",
    "    z = video.replace( pasta+\"/\", \"\")\n",
    "    if json_meta[z]['0']['label'] == 'FAKE':\n",
    "        shutil.move(video,\"../data/raw/dataset_dfdc/fake_video/\")\n",
    "    else:\n",
    "        shutil.move(video,\"../data/raw/dataset_dfdc/real_video/\")"
   ]
  },
  {
   "cell_type": "code",
   "execution_count": 48,
   "metadata": {},
   "outputs": [
    {
     "data": {
      "text/plain": [
       "'FAKE'"
      ]
     },
     "execution_count": 48,
     "metadata": {},
     "output_type": "execute_result"
    }
   ],
   "source": [
    "json_meta['aagfhgtpmv.mp4']['0']['label']"
   ]
  },
  {
   "cell_type": "code",
   "execution_count": 41,
   "metadata": {},
   "outputs": [
    {
     "data": {
      "text/plain": [
       "119154"
      ]
     },
     "execution_count": 41,
     "metadata": {},
     "output_type": "execute_result"
    }
   ],
   "source": [
    "json_meta = json.load(open(\"../data/raw/dataset_dfdc/metadados.json\"))\n",
    "len(json_meta)"
   ]
  },
  {
   "cell_type": "code",
   "execution_count": 27,
   "metadata": {},
   "outputs": [
    {
     "data": {
      "text/plain": [
       "1334"
      ]
     },
     "execution_count": 27,
     "metadata": {},
     "output_type": "execute_result"
    }
   ],
   "source": [
    "json_meta = json.load(open(json_files[0]))\n",
    "len(json_meta)"
   ]
  },
  {
   "cell_type": "code",
   "execution_count": 40,
   "metadata": {},
   "outputs": [],
   "source": [
    "import json\n",
    "import pandas as pd\n",
    "\n",
    "with open(json_files[0]) as f1:               # open the file\n",
    "    data1 = json.load(f1)\n",
    "df1 = pd.DataFrame([data1])                      # Creating DataFrames\n",
    "\n",
    "for i in json_files[1:]:\n",
    "    with open(i) as f2:                # open the file       \n",
    "        data2 = json.load(f2)\n",
    "        df2 = pd.DataFrame([data2])                      # Creating DataFrames\n",
    "    df1 = pd.concat([df1, df2], axis=1)         # Concat DataFrames\n",
    "\n",
    "df1.to_json(\"../data/raw/dataset_dfdc/metadados.json\") "
   ]
  },
  {
   "cell_type": "code",
   "execution_count": 34,
   "metadata": {},
   "outputs": [
    {
     "data": {
      "text/plain": [
       "['../data/raw/dataset_dfdc/a_identificar/dfdc_train_part_1/metadata.json',\n",
       " '../data/raw/dataset_dfdc/a_identificar/dfdc_train_part_2/metadata.json',\n",
       " '../data/raw/dataset_dfdc/a_identificar/dfdc_train_part_3/metadata.json',\n",
       " '../data/raw/dataset_dfdc/a_identificar/dfdc_train_part_4/metadata.json',\n",
       " '../data/raw/dataset_dfdc/a_identificar/dfdc_train_part_5/metadata.json',\n",
       " '../data/raw/dataset_dfdc/a_identificar/dfdc_train_part_6/metadata.json',\n",
       " '../data/raw/dataset_dfdc/a_identificar/dfdc_train_part_7/metadata.json',\n",
       " '../data/raw/dataset_dfdc/a_identificar/dfdc_train_part_8/metadata.json',\n",
       " '../data/raw/dataset_dfdc/a_identificar/dfdc_train_part_10/metadata.json',\n",
       " '../data/raw/dataset_dfdc/a_identificar/dfdc_train_part_11/metadata.json',\n",
       " '../data/raw/dataset_dfdc/a_identificar/dfdc_train_part_12/metadata.json',\n",
       " '../data/raw/dataset_dfdc/a_identificar/dfdc_train_part_13/metadata.json',\n",
       " '../data/raw/dataset_dfdc/a_identificar/dfdc_train_part_14/metadata.json',\n",
       " '../data/raw/dataset_dfdc/a_identificar/dfdc_train_part_15/metadata.json',\n",
       " '../data/raw/dataset_dfdc/a_identificar/dfdc_train_part_16/metadata.json',\n",
       " '../data/raw/dataset_dfdc/a_identificar/dfdc_train_part_17/metadata.json',\n",
       " '../data/raw/dataset_dfdc/a_identificar/dfdc_train_part_18/metadata.json',\n",
       " '../data/raw/dataset_dfdc/a_identificar/dfdc_train_part_19/metadata.json',\n",
       " '../data/raw/dataset_dfdc/a_identificar/dfdc_train_part_20/metadata.json',\n",
       " '../data/raw/dataset_dfdc/a_identificar/dfdc_train_part_21/metadata.json',\n",
       " '../data/raw/dataset_dfdc/a_identificar/dfdc_train_part_22/metadata.json',\n",
       " '../data/raw/dataset_dfdc/a_identificar/dfdc_train_part_23/metadata.json',\n",
       " '../data/raw/dataset_dfdc/a_identificar/dfdc_train_part_24/metadata.json',\n",
       " '../data/raw/dataset_dfdc/a_identificar/dfdc_train_part_25/metadata.json',\n",
       " '../data/raw/dataset_dfdc/a_identificar/dfdc_train_part_26/metadata.json',\n",
       " '../data/raw/dataset_dfdc/a_identificar/dfdc_train_part_27/metadata.json',\n",
       " '../data/raw/dataset_dfdc/a_identificar/dfdc_train_part_28/metadata.json',\n",
       " '../data/raw/dataset_dfdc/a_identificar/dfdc_train_part_29/metadata.json',\n",
       " '../data/raw/dataset_dfdc/a_identificar/dfdc_train_part_30/metadata.json',\n",
       " '../data/raw/dataset_dfdc/a_identificar/dfdc_train_part_31/metadata.json',\n",
       " '../data/raw/dataset_dfdc/a_identificar/dfdc_train_part_32/metadata.json',\n",
       " '../data/raw/dataset_dfdc/a_identificar/dfdc_train_part_33/metadata.json',\n",
       " '../data/raw/dataset_dfdc/a_identificar/dfdc_train_part_34/metadata.json',\n",
       " '../data/raw/dataset_dfdc/a_identificar/dfdc_train_part_35/metadata.json',\n",
       " '../data/raw/dataset_dfdc/a_identificar/dfdc_train_part_36/metadata.json',\n",
       " '../data/raw/dataset_dfdc/a_identificar/dfdc_train_part_37/metadata.json',\n",
       " '../data/raw/dataset_dfdc/a_identificar/dfdc_train_part_38/metadata.json',\n",
       " '../data/raw/dataset_dfdc/a_identificar/dfdc_train_part_39/metadata.json',\n",
       " '../data/raw/dataset_dfdc/a_identificar/dfdc_train_part_40/metadata.json',\n",
       " '../data/raw/dataset_dfdc/a_identificar/dfdc_train_part_41/metadata.json',\n",
       " '../data/raw/dataset_dfdc/a_identificar/dfdc_train_part_42/metadata.json',\n",
       " '../data/raw/dataset_dfdc/a_identificar/dfdc_train_part_43/metadata.json',\n",
       " '../data/raw/dataset_dfdc/a_identificar/dfdc_train_part_44/metadata.json',\n",
       " '../data/raw/dataset_dfdc/a_identificar/dfdc_train_part_45/metadata.json',\n",
       " '../data/raw/dataset_dfdc/a_identificar/dfdc_train_part_46/metadata.json',\n",
       " '../data/raw/dataset_dfdc/a_identificar/dfdc_train_part_47/metadata.json',\n",
       " '../data/raw/dataset_dfdc/a_identificar/dfdc_train_part_48/metadata.json',\n",
       " '../data/raw/dataset_dfdc/a_identificar/dfdc_train_part_49/metadata.json',\n",
       " '../data/raw/dataset_dfdc/a_identificar/dfdc_train_part_9/metadata.json']"
      ]
     },
     "execution_count": 34,
     "metadata": {},
     "output_type": "execute_result"
    }
   ],
   "source": [
    "json_files[1:]"
   ]
  },
  {
   "cell_type": "code",
   "execution_count": null,
   "metadata": {},
   "outputs": [],
   "source": []
  }
 ],
 "metadata": {
  "kernelspec": {
   "display_name": "base",
   "language": "python",
   "name": "python3"
  },
  "language_info": {
   "codemirror_mode": {
    "name": "ipython",
    "version": 3
   },
   "file_extension": ".py",
   "mimetype": "text/x-python",
   "name": "python",
   "nbconvert_exporter": "python",
   "pygments_lexer": "ipython3",
   "version": "3.8.8"
  },
  "orig_nbformat": 4
 },
 "nbformat": 4,
 "nbformat_minor": 2
}
